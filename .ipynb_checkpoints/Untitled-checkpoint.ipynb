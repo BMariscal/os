{
 "cells": [
  {
   "cell_type": "markdown",
   "metadata": {},
   "source": [
    "## Review Notes on Operating System Concepts"
   ]
  },
  {
   "cell_type": "markdown",
   "metadata": {},
   "source": [
    "### Introduction to Operating Systems"
   ]
  },
  {
   "cell_type": "markdown",
   "metadata": {},
   "source": [
    "- What is the operating system? The operating system efficiently manages the resources of a computer system. The OS is in charge of efficiently managing several resources, such as CPU, main memory, secondary storage and I/O devises, so that users can simultaneously work and complete the desired tasks.\n",
    "\n",
    "\n",
    "- The CPU cannot execute anything stored in secondary storage (e.g., magenetic tapes and hard disks). The CPU only executes what is in main memory. The program stored on the hard disk must be brought into memory first in order for the CPU to access and execute it. \n",
    "\n",
    "\n",
    "- How is the CPU time shared among users (multiprogramming system)? We need to think about this. How to manage the memory blocks is handled by the operating system. \n",
    "\n",
    "\n",
    "- The way in which main memory and secondary memory is accessed is different or have different access mechanism. The **devise driver** is responsible to look for instructions or data from the secondary storage and pass it to main memory, so that it can be accessed or executed by the CPU. \n",
    "\n",
    "\n",
    "- Input/Output devises - The devises used to input/output information or instructions to/from a computer system (e.g., keyboard and monitor). Hard disks are also known as input devises since they contain data blocks that are read and input into main memory for execution. Similarily, they serve as a output devise as they are used to save the output of an executed program, for example. Essentially, secondary storages could be considered some sort of special type of I/O devises.\n",
    "\n",
    "\n",
    "- How does the OS operates in a distributed computing system?  \n",
    "\n",
    "\n",
    "- CPU is also known as **process manager**. A **process** is a program in execution. The OS manages the CPU so that is can be shared by more than one process simultaneously. The CPU cannot garuantee the immediate execution of a job that contains a **waiting time** and **turnaround time**. The waiting time is known as the time taken for the CPU to start the execution a job after it has first been submitted *(ti -t0)*; *ti* representing the time the CPU starts the execution of the job and *t0* being the time the job was submitted for execution. The turnaround time is known as the time taken for the CPU to finish the execution of a job after it has first been submitted *(tp - t0)*. \n",
    "\n",
    "\n",
    "- Ideally, the user requires that the waiting and turnaround time be as minimum as possible, despite the fact that the CPU is busy executing other tasks.\n",
    "\n",
    "\n",
    "- Usually, the jobs are scheduled to execute in a **\"first come, first serve\"** manner, also knows as sequence of execution. The OS has control on what is executed next but not really on how the job arrives, which are specified by the user. Changing the scheduling of how the job are executed based on the amount of time taken and not in order in which they arrive, the total waiting average time for each job is reduced significanlty. That is, the OS tries to optimize for the best average waiting time and choose that schedule to execute specificied jobs by the user/s. The jobs with shorter time are executed first while the jobs with the longer times are executed last. This type of scheduling is commonly known as **\"Shortest Job First\"**.\n"
   ]
  },
  {
   "cell_type": "code",
   "execution_count": null,
   "metadata": {
    "collapsed": true
   },
   "outputs": [],
   "source": []
  }
 ],
 "metadata": {
  "kernelspec": {
   "display_name": "Python 3",
   "language": "python",
   "name": "python3"
  },
  "language_info": {
   "codemirror_mode": {
    "name": "ipython",
    "version": 3
   },
   "file_extension": ".py",
   "mimetype": "text/x-python",
   "name": "python",
   "nbconvert_exporter": "python",
   "pygments_lexer": "ipython3",
   "version": "3.5.2"
  }
 },
 "nbformat": 4,
 "nbformat_minor": 0
}
